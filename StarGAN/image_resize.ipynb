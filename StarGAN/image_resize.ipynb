{
  "nbformat": 4,
  "nbformat_minor": 0,
  "metadata": {
    "colab": {
      "name": "image_resize.ipynb",
      "provenance": [],
      "collapsed_sections": []
    },
    "kernelspec": {
      "name": "python3",
      "display_name": "Python 3"
    }
  },
  "cells": [
    {
      "cell_type": "code",
      "metadata": {
        "id": "FyVzCqASYSQl"
      },
      "source": [
        "# 구글 드라이브 마운트"
      ],
      "execution_count": null,
      "outputs": []
    },
    {
      "cell_type": "code",
      "metadata": {
        "colab": {
          "base_uri": "https://localhost:8080/"
        },
        "id": "DMhGVZJlYYoq",
        "outputId": "8a63be53-73b4-4195-bc1f-2e76d5589fca"
      },
      "source": [
        "cd /content/drive/MyDrive/StarGAN/data/custom/train"
      ],
      "execution_count": 1,
      "outputs": [
        {
          "output_type": "stream",
          "text": [
            "/content/drive/MyDrive/StarGAN/data/custom/train\n"
          ],
          "name": "stdout"
        }
      ]
    },
    {
      "cell_type": "code",
      "metadata": {
        "id": "2nPxVCyIYb3o"
      },
      "source": [
        "!mkdir check_resize"
      ],
      "execution_count": 2,
      "outputs": []
    },
    {
      "cell_type": "code",
      "metadata": {
        "colab": {
          "base_uri": "https://localhost:8080/"
        },
        "id": "VekBHn37Yccz",
        "outputId": "b691ce5b-b079-4472-af3e-fa5a621fb78d"
      },
      "source": [
        "cd check_resize"
      ],
      "execution_count": 3,
      "outputs": [
        {
          "output_type": "stream",
          "text": [
            "/content/drive/My Drive/StarGAN/data/custom/train/check_resize\n"
          ],
          "name": "stdout"
        }
      ]
    },
    {
      "cell_type": "code",
      "metadata": {
        "id": "d4PAsmwiYtXE"
      },
      "source": [
        "# check 폴더의 이미지를 256x256로 resize하여 check_resize 폴더에 저장\r\n",
        "# 파일명 순차적으로 설정 필요\r\n",
        "\r\n",
        "import cv2\r\n",
        "\r\n",
        "for i in range(1, 2666):  # 파일 갯수에 맞게\r\n",
        "  img = cv2.imread(\"../check/\"+str(i)+\".jpg\", cv2.IMREAD_COLOR)\r\n",
        "\r\n",
        "  img_resize = cv2.resize(img, dsize=(256,256)) \r\n",
        "\r\n",
        "  cv2.imwrite(str(i)+\".jpg\", img_resize)"
      ],
      "execution_count": null,
      "outputs": []
    }
  ]
}