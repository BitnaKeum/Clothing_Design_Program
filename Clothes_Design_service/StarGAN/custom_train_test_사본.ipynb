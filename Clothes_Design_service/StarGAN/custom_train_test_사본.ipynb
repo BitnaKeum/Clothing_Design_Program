{
 "cells": [
  {
   "cell_type": "code",
   "execution_count": null,
   "metadata": {
    "id": "PTsEuvFxZFNU"
   },
   "outputs": [],
   "source": [
    "# StarGAN 경로에서 실행하기"
   ]
  },
  {
   "cell_type": "markdown",
   "metadata": {
    "id": "hQjV8tTQfLad"
   },
   "source": [
    "## **Train**"
   ]
  },
  {
   "cell_type": "code",
   "execution_count": null,
   "metadata": {
    "colab": {
     "base_uri": "https://localhost:8080/"
    },
    "executionInfo": {
     "elapsed": 4170,
     "status": "ok",
     "timestamp": 1621073541431,
     "user": {
      "displayName": "체봄",
      "photoUrl": "",
      "userId": "12973493612083864419"
     },
     "user_tz": -540
    },
    "id": "D2BY1PSYwKdn",
    "outputId": "cdaf8e46-07ac-4e29-c995-bdf27c49c362"
   },
   "outputs": [
    {
     "name": "stdout",
     "output_type": "stream",
     "text": [
      "Collecting tensorboardX\n",
      "\u001b[?25l  Downloading https://files.pythonhosted.org/packages/07/84/46421bd3e0e89a92682b1a38b40efc22dafb6d8e3d947e4ceefd4a5fabc7/tensorboardX-2.2-py2.py3-none-any.whl (120kB)\n",
      "\u001b[K     |████████████████████████████████| 122kB 3.9MB/s \n",
      "\u001b[?25hRequirement already satisfied: numpy in /usr/local/lib/python3.7/dist-packages (from tensorboardX) (1.19.5)\n",
      "Requirement already satisfied: protobuf>=3.8.0 in /usr/local/lib/python3.7/dist-packages (from tensorboardX) (3.12.4)\n",
      "Requirement already satisfied: six>=1.9 in /usr/local/lib/python3.7/dist-packages (from protobuf>=3.8.0->tensorboardX) (1.15.0)\n",
      "Requirement already satisfied: setuptools in /usr/local/lib/python3.7/dist-packages (from protobuf>=3.8.0->tensorboardX) (56.1.0)\n",
      "Installing collected packages: tensorboardX\n",
      "Successfully installed tensorboardX-2.2\n"
     ]
    }
   ],
   "source": [
    "!pip install tensorboardX "
   ]
  },
  {
   "cell_type": "code",
   "execution_count": 1,
   "metadata": {
    "colab": {
     "base_uri": "https://localhost:8080/"
    },
    "id": "sOCXtQNwDg8d",
    "outputId": "5f2a7253-f6ce-4fc2-ba1a-cfe9baf2cd89"
   },
   "outputs": [
    {
     "name": "stderr",
     "output_type": "stream",
     "text": [
      "Python\n"
     ]
    }
   ],
   "source": [
    "# Train StarGAN on custom datasets\n",
    "\n",
    "!python main.py --mode train --dataset RaFD --rafd_crop_size 300 --image_size 256 --c_dim 9 \\\n",
    "                --num_iters 140000 \\\n",
    "                --rafd_image_dir data/custom/train --sample_dir stargan_custom/samples --log_dir stargan_custom/logs \\\n",
    "                --model_save_dir stargan_custom/models --result_dir stargan_custom/results \\\n",
    "                --model_save_step 20000 \\\n",
    "                --model_name 'U-net ver2'\n",
    "# model_name => 'Original' / 'U-net' / 'Reconstruction'"
   ]
  },
  {
   "cell_type": "code",
   "execution_count": null,
   "metadata": {
    "id": "BE9Sk0htwISe"
   },
   "outputs": [],
   "source": [
    "# 학습 loss 그래프 그리기\n",
    "tensorboard --logdir runs"
   ]
  }
 ],
 "metadata": {
  "accelerator": "GPU",
  "colab": {
   "collapsed_sections": [],
   "name": "custom_train_test_사본.ipynb",
   "provenance": []
  },
  "kernelspec": {
   "display_name": "[tf2.0]",
   "language": "python",
   "name": "tf2.0"
  },
  "language_info": {
   "codemirror_mode": {
    "name": "ipython",
    "version": 3
   },
   "file_extension": ".py",
   "mimetype": "text/x-python",
   "name": "python",
   "nbconvert_exporter": "python",
   "pygments_lexer": "ipython3",
   "version": "3.6.5"
  }
 },
 "nbformat": 4,
 "nbformat_minor": 1
}
