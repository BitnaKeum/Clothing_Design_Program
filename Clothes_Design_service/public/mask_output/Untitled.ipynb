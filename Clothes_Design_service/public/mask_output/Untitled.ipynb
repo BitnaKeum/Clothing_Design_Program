{
 "cells": [
  {
   "cell_type": "code",
   "execution_count": 15,
   "metadata": {},
   "outputs": [],
   "source": [
    "import cv2"
   ]
  },
  {
   "cell_type": "code",
   "execution_count": 16,
   "metadata": {},
   "outputs": [],
   "source": [
    "src = cv2.imread('mask.jpg', cv2.IMREAD_GRAYSCALE)\n",
    "dst = cv2.GaussianBlur(src, (0, 0), 5)\n",
    "desc = \"sigma = {}.format(sigma)\"\n"
   ]
  },
  {
   "cell_type": "code",
   "execution_count": 20,
   "metadata": {},
   "outputs": [
    {
     "name": "stdout",
     "output_type": "stream",
     "text": [
      "[49005, 1053, 507, 360, 273, 226, 211, 177, 166, 155, 147, 128, 119, 121, 111, 116, 99, 92, 89, 102, 79, 87, 89, 75, 72, 75, 70, 76, 66, 65, 57, 73, 49, 64, 59, 69, 53, 54, 50, 55, 44, 61, 52, 54, 49, 54, 51, 44, 50, 50, 51, 43, 54, 40, 47, 36, 42, 54, 34, 44, 53, 44, 48, 43, 44, 42, 48, 40, 34, 35, 40, 42, 30, 49, 34, 37, 56, 30, 49, 32, 38, 48, 30, 50, 20, 41, 36, 30, 35, 34, 33, 44, 30, 33, 40, 36, 39, 41, 37, 36, 35, 42, 34, 19, 38, 27, 31, 35, 30, 30, 45, 31, 24, 37, 42, 36, 38, 36, 45, 27, 34, 29, 30, 28, 33, 31, 27, 37, 31, 34, 45, 28, 28, 42, 38, 33, 34, 28, 39, 30, 27, 45, 27, 38, 25, 35, 27, 39, 26, 42, 35, 37, 23, 46, 37, 27, 36, 44, 36, 33, 31, 37, 33, 30, 30, 36, 36, 35, 43, 37, 32, 45, 43, 30, 34, 46, 32, 39, 32, 45, 32, 30, 44, 36, 40, 38, 46, 32, 39, 32, 38, 44, 41, 37, 35, 47, 39, 31, 40, 26, 45, 40, 37, 40, 55, 38, 34, 46, 34, 44, 42, 32, 50, 40, 49, 43, 42, 42, 43, 41, 45, 53, 52, 38, 59, 37, 43, 53, 61, 57, 56, 56, 50, 62, 59, 63, 73, 63, 80, 71, 79, 82, 83, 96, 93, 79, 107, 126, 120, 123, 148, 147, 192, 253, 414, 818]\n"
     ]
    }
   ],
   "source": [
    "arr = [0 for _ in range(0,256)]\n",
    "\n",
    "for i in dst:\n",
    "    for j in i:\n",
    "        arr[j]+=1\n",
    "\n",
    "print(arr)"
   ]
  },
  {
   "cell_type": "code",
   "execution_count": null,
   "metadata": {},
   "outputs": [],
   "source": []
  }
 ],
 "metadata": {
  "kernelspec": {
   "display_name": "[mask10]",
   "language": "python",
   "name": "mask10"
  },
  "language_info": {
   "codemirror_mode": {
    "name": "ipython",
    "version": 3
   },
   "file_extension": ".py",
   "mimetype": "text/x-python",
   "name": "python",
   "nbconvert_exporter": "python",
   "pygments_lexer": "ipython3",
   "version": "3.6.9"
  }
 },
 "nbformat": 4,
 "nbformat_minor": 4
}
